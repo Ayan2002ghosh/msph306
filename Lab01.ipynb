{
 "cells": [
  {
   "cell_type": "markdown",
   "metadata": {},
   "source": [
    "# Introduction to Python and Jupyter Notebooks\n",
    "\n",
    "This lab session entails a very brief introduction to python and Jupyter notebooks. It is assumed that you are already comfortable with the theory material for the MSPH306 course. Some of the content covered during this session was covered briefly during the preceding theory classes.\n",
    "\n",
    "Jupyter notebook is an HTML-based notebook environment for Python, similar to Mathematica or Maple. It provides a cell-based environment with great interactivity, where calculations can be organized and documented in a structured way. Jupyter is a loose acronym meaning \"Julia, Python, and R\", three programming languages that are supported by the platform. \n",
    "\n",
    "You can access Jupyter notebooks from the Anaconda Navigator, or directly open the Jupyter Notebook application itself. It should automatically open up in your web browser. \n",
    "\n",
    "## Starting Jupyter \n",
    "\n",
    "If you have not already done so, then begin this lab session by starting the Jupyter application as follows:\n",
    "\n",
    "1. Click on the \"Anaconda Navigator\" icon on your desktop. It should look like this: ![Anaconda Navigator Icon](images/anaconda_Icon.png \"Anaconda Navigator Icon\")\n",
    "\n",
    "2. Anaconda Navigator should load. The application should display a window like the one shown below. \n",
    "   \n",
    "   ![Anaconda Navigator](images/nav.png \"Anaconda Navigator\")\n",
    "\n",
    "3. Look for the tile labeled \"Jupyter Notebook\" (circled below) and click the \"Launch\" button.\n",
    "   \n",
    "   ![Jupyter Tile](images/jupyter_tile.png \"Jupyter Tile\")\n",
    "\n",
    "4. The Jupyter notebook interface should load in a browser and look like this\n",
    "\n",
    "   ![Jupyter Start](images/jupyter_start.png \"Jupyter Start\")\n",
    "\n",
    "5. Navigate to the folder named 'msph306' by clicking the link circled above.\n",
    "   \n",
    "6. You will see a list of files. The files ending in '.ipynb' are lab notebooks. \n",
    "\n",
    "7. Click on the notebook named 'Lab01.ipynb' to load this notebook into Jupyter. \n",
    "\n",
    "8. Continue this exercise over there.\n",
    "\n",
    "## Python programming in Jupyter: A simple Hello World Program\n",
    "\n",
    "Python code is usually stored in text files with the file ending \".py\". Jupyter notebooks are stored in files with the file ending \".ipynb\".\n",
    "\n",
    "In Jupyter notebooks, content is divided into 'cells'. Each cell can be of two types: \n",
    "\n",
    "1. Markdown Cells: These cells contain text, links and images formatted with the **markdown** language. These are for humans to read, and do not contain executable code. The text that you are reading right now is in a markdown cell.\n",
    "   \n",
    "2. Code cells: These cells contain codes that can be executed. The cell below this one is a python code cell.\n",
    "   \n",
    "\n",
    "### Exercise 01\n",
    "Click inside the code cell below and write down a simple 'hello world' program. This should be just a one-line print command. \n",
    "\n",
    "Execute the code cell by clicking \"Run\" on the toolbar at the top. See screenshot below:\n",
    "\n",
    "   ![Jupyter Run](images/jupyter_run.png \"Jupyter Run\")\n",
    "\n",
    "\n",
    "The output should be displayed just below the code cell."
   ]
  },
  {
   "cell_type": "code",
   "execution_count": 10,
   "metadata": {},
   "outputs": [],
   "source": [
    "# This is a code cell. Type your program below this comment\n"
   ]
  },
  {
   "cell_type": "markdown",
   "metadata": {},
   "source": [
    "## Simple math in Python\n",
    "\n",
    "\n",
    "Every line in a Python program file is assumed to be a Python statement, or part thereof.\n",
    "\n",
    "The only exception is comment lines, which start with the character # (optionally preceded by an arbitrary number of white-space characters, i.e., tabs or spaces). Comment lines are usually ignored by the Python interpreter.\n",
    "\n",
    "### Exercise 02\n",
    "You can use python just like a programmable calculator. Click inside the code cell below, type in a simple one-line arithmetic expression like '2+3' and execute the code cell as before."
   ]
  },
  {
   "cell_type": "code",
   "execution_count": 2,
   "metadata": {},
   "outputs": [
    {
     "data": {
      "text/plain": [
       "5"
      ]
     },
     "execution_count": 2,
     "metadata": {},
     "output_type": "execute_result"
    }
   ],
   "source": []
  },
  {
   "cell_type": "markdown",
   "metadata": {},
   "source": [
    "You can create a code cell just below any active cell by clicking on the \"+\" icon in the toolbar (see below). \n",
    "\n",
    "The cell that you have just used your mouse to click on or inside is an 'active cell'\n",
    "\n",
    "![Jupyter New Cell](images/jupyter_newcell.png \"Jupyter New Cell\")\n",
    "\n",
    "\n",
    "\n",
    "### Exercise 03:\n",
    "1. Click anywhere on **this cell**. Now, this cell becomes \"active\". \n",
    "2. Now, click on the '+' icon on the top menu to create a code cell below this blank cell. \n",
    "3. Then, enter a simple one-line math expression and execute it to display the evaluated result."
   ]
  },
  {
   "cell_type": "markdown",
   "metadata": {},
   "source": [
    "You can **delete** any active cell by clicking on the scissors icon (see below)\n",
    "\n",
    "![scissors](images/jupyter_scissors.png)  \n",
    "\n",
    "The icon is next to the \"+\" icon in the toolbar above. \n",
    "Test this by selecting the cell that you just created and deleting it. \n",
    "Make sure that you don't accidentally delete any other cell. \n",
    "\n",
    "### More arithmetic with Python\n",
    "Expression syntax is straightforward: the operators +, -, * and / can be used to perform arithmetic; parentheses (()) can be used for grouping. For example:"
   ]
  },
  {
   "cell_type": "code",
   "execution_count": 2,
   "metadata": {},
   "outputs": [
    {
     "data": {
      "text/plain": [
       "5.0"
      ]
     },
     "execution_count": 2,
     "metadata": {},
     "output_type": "execute_result"
    }
   ],
   "source": [
    "(50 - 5*6) / 4"
   ]
  },
  {
   "cell_type": "code",
   "execution_count": 4,
   "metadata": {},
   "outputs": [
    {
     "data": {
      "text/plain": [
       "1.6"
      ]
     },
     "execution_count": 4,
     "metadata": {},
     "output_type": "execute_result"
    }
   ],
   "source": [
    "8 / 5 # division always returns a floating-point number"
   ]
  },
  {
   "cell_type": "markdown",
   "metadata": {},
   "source": [
    "The integer numbers (e.g. 2, 4, 20) have type 'int', the ones with a fractional part (e.g. 5.0, 1.6) have type 'float'. \n",
    "\n",
    "Division (/) always returns a float. To do floor division and get an integer result you can use the // operator; to calculate the remainder you can use %:"
   ]
  },
  {
   "cell_type": "code",
   "execution_count": 5,
   "metadata": {},
   "outputs": [
    {
     "data": {
      "text/plain": [
       "5.666666666666667"
      ]
     },
     "execution_count": 5,
     "metadata": {},
     "output_type": "execute_result"
    }
   ],
   "source": [
    "17 / 3  # classic division returns a float"
   ]
  },
  {
   "cell_type": "code",
   "execution_count": 6,
   "metadata": {},
   "outputs": [
    {
     "data": {
      "text/plain": [
       "5"
      ]
     },
     "execution_count": 6,
     "metadata": {},
     "output_type": "execute_result"
    }
   ],
   "source": [
    "17 // 3  # floor division discards the fractional part"
   ]
  },
  {
   "cell_type": "code",
   "execution_count": 7,
   "metadata": {},
   "outputs": [
    {
     "data": {
      "text/plain": [
       "2"
      ]
     },
     "execution_count": 7,
     "metadata": {},
     "output_type": "execute_result"
    }
   ],
   "source": [
    "17 % 3  # the % operator returns the remainder of the division"
   ]
  },
  {
   "cell_type": "code",
   "execution_count": 8,
   "metadata": {},
   "outputs": [
    {
     "data": {
      "text/plain": [
       "17"
      ]
     },
     "execution_count": 8,
     "metadata": {},
     "output_type": "execute_result"
    }
   ],
   "source": [
    "5 * 3 + 2  # floored quotient * divisor + remainder"
   ]
  },
  {
   "cell_type": "markdown",
   "metadata": {},
   "source": [
    "With Python, it is possible to use the ** operator to calculate powers:"
   ]
  },
  {
   "cell_type": "code",
   "execution_count": 11,
   "metadata": {},
   "outputs": [
    {
     "data": {
      "text/plain": [
       "128"
      ]
     },
     "execution_count": 11,
     "metadata": {},
     "output_type": "execute_result"
    }
   ],
   "source": [
    "2**7 # 2 to the power of 7"
   ]
  },
  {
   "cell_type": "markdown",
   "metadata": {},
   "source": [
    "The equal sign (=) is used to assign a value to a variable. Always, the result of the last computation in the cell is displayed."
   ]
  },
  {
   "cell_type": "code",
   "execution_count": 12,
   "metadata": {},
   "outputs": [
    {
     "data": {
      "text/plain": [
       "900"
      ]
     },
     "execution_count": 12,
     "metadata": {},
     "output_type": "execute_result"
    }
   ],
   "source": [
    "width = 20\n",
    "height = 5 * 9\n",
    "width * height"
   ]
  },
  {
   "cell_type": "markdown",
   "metadata": {},
   "source": [
    "### Exercise 04:\n",
    "Create a code cell just below. In that cell, enter code that takes a width of $20$, height of $5\\times 9$, then displays the width, height, and area."
   ]
  },
  {
   "cell_type": "markdown",
   "metadata": {},
   "source": [
    "### The type() function in Python\n",
    "\n",
    "The 'type()' function in python yields the type of data stored in any object, whether a variable, value or an expression. For instance:"
   ]
  },
  {
   "cell_type": "code",
   "execution_count": 14,
   "metadata": {},
   "outputs": [
    {
     "name": "stdout",
     "output_type": "stream",
     "text": [
      "6 <class 'int'>\n",
      "2 <class 'int'>\n",
      "4.5 <class 'float'>\n",
      "3.45 <class 'float'>\n",
      "7.45 <class 'float'>\n"
     ]
    }
   ],
   "source": [
    "print(6, type(6))\n",
    "\n",
    "x = 2\n",
    "print(x, type(x))\n",
    "\n",
    "print(4.5, type(4.5))\n",
    "\n",
    "y=3.45\n",
    "print(y, type(y))\n",
    "\n",
    "z = 2 * x + y\n",
    "print(z,type(z))\n"
   ]
  },
  {
   "cell_type": "markdown",
   "metadata": {},
   "source": [
    "### Exercise 05: \n",
    "\n",
    "Use the following formula,\n",
    "\\begin{equation}\n",
    "e^x = 1+x + \\frac{x^2}{2!} + \\frac{x^3}{3!} + \\dots,\n",
    "\\end{equation}\n",
    "to estimate the value of $e$ accurate to the first place of decimal. The value of $e=2.7182 \\dots$."
   ]
  },
  {
   "cell_type": "markdown",
   "metadata": {},
   "source": [
    "# Input in Python\n",
    "\n",
    "The 'input()' function in Python allows user input. This function first takes the input from the user and converts it into a string. \n",
    "\n",
    "When the input function is called it stops the program and waits for the user’s input. When the user presses enter, the program resumes and returns what the user typed. If the input is to be used in any program, it must be stored in a variable. See the example below where the string is converted to a float using the 'float()' function"
   ]
  },
  {
   "cell_type": "code",
   "execution_count": 13,
   "metadata": {},
   "outputs": [
    {
     "name": "stdout",
     "output_type": "stream",
     "text": [
      "Enter a number 3.2\n",
      "3.2\n",
      "<class 'str'>\n",
      "10.240000000000002\n"
     ]
    }
   ],
   "source": [
    "a = input(\"Enter a number \")\n",
    "print(a), \n",
    "print(type(a))\n",
    "\n",
    "number = float(a)\n",
    "print(number**2)"
   ]
  },
  {
   "cell_type": "markdown",
   "metadata": {},
   "source": [
    "Note that, if you had just calculated $a^2$ without converting it into a float first, it would give you an error, since $a$ is a **string**, and python cannot make sense of any instruction that involves squaring a string."
   ]
  },
  {
   "cell_type": "code",
   "execution_count": 14,
   "metadata": {
    "scrolled": true
   },
   "outputs": [
    {
     "name": "stdout",
     "output_type": "stream",
     "text": [
      "Enter a number 3.13\n",
      "3.13\n",
      "<class 'str'>\n"
     ]
    },
    {
     "ename": "TypeError",
     "evalue": "unsupported operand type(s) for ** or pow(): 'str' and 'int'",
     "output_type": "error",
     "traceback": [
      "\u001b[0;31m---------------------------------------------------------------------------\u001b[0m",
      "\u001b[0;31mTypeError\u001b[0m                                 Traceback (most recent call last)",
      "Cell \u001b[0;32mIn[14], line 4\u001b[0m\n\u001b[1;32m      2\u001b[0m \u001b[38;5;28mprint\u001b[39m(a), \n\u001b[1;32m      3\u001b[0m \u001b[38;5;28mprint\u001b[39m(\u001b[38;5;28mtype\u001b[39m(a))\n\u001b[0;32m----> 4\u001b[0m \u001b[38;5;28mprint\u001b[39m(\u001b[43ma\u001b[49m\u001b[38;5;241;43m*\u001b[39;49m\u001b[38;5;241;43m*\u001b[39;49m\u001b[38;5;241;43m2\u001b[39;49m)\n",
      "\u001b[0;31mTypeError\u001b[0m: unsupported operand type(s) for ** or pow(): 'str' and 'int'"
     ]
    }
   ],
   "source": [
    "a = input(\"Enter a number \")\n",
    "print(a), \n",
    "print(type(a))\n",
    "print(a**2)"
   ]
  },
  {
   "cell_type": "markdown",
   "metadata": {},
   "source": [
    "Therefore, you have to **convert** the string to a floating point by supplying it to the 'float()' function.\n",
    "\n",
    "Supplying any float to the 'int()' function returns the integer part only. Check out the code cell below that illustrates the use of the 'int()' function."
   ]
  },
  {
   "cell_type": "code",
   "execution_count": 16,
   "metadata": {},
   "outputs": [
    {
     "name": "stdout",
     "output_type": "stream",
     "text": [
      "Enter a number 8.765\n",
      "The number is  8.765\n",
      "But it is of type  <class 'str'>\n",
      "The integer part is  8\n",
      "The decimal part is  0.7650000000000006\n"
     ]
    }
   ],
   "source": [
    "a = input(\"Enter a number \")\n",
    "print(\"The number is \", a), \n",
    "print(\"But it is of type \", type(a))\n",
    "\n",
    "af = float(a)\n",
    "ai = int(af)\n",
    "print(\"The integer part is \", ai)\n",
    "\n",
    "print(\"The decimal part is \", af - ai)"
   ]
  },
  {
   "cell_type": "markdown",
   "metadata": {},
   "source": [
    "### Exercise 06:\n",
    "\n",
    "Create a new code cell below. Write a program that takes the length and breadth of a rectangle as input and outputs the area."
   ]
  }
 ],
 "metadata": {
  "kernelspec": {
   "display_name": "Python 3 (ipykernel)",
   "language": "python",
   "name": "python3"
  },
  "language_info": {
   "codemirror_mode": {
    "name": "ipython",
    "version": 3
   },
   "file_extension": ".py",
   "mimetype": "text/x-python",
   "name": "python",
   "nbconvert_exporter": "python",
   "pygments_lexer": "ipython3",
   "version": "3.11.7"
  }
 },
 "nbformat": 4,
 "nbformat_minor": 2
}
