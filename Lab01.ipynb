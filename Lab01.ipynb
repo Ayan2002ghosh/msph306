{
 "cells": [
  {
   "cell_type": "markdown",
   "metadata": {},
   "source": [
    "# Introduction to Python and Jupyter Notebooks\n",
    "\n",
    "This lab session entails a very brief introduction to python and Jupyter notebooks. It is assumed that you are already comfortable with the theory material for the MSPH306 course. Some of the content covered during this session was covered briefly during the preceding theory classes.\n",
    "\n",
    "Jupyter notebook is an HTML-based notebook environment for Python, similar to Mathematica or Maple. It provides a cell-based environment with great interactivity, where calculations can be organized and documented in a structured way. Jupyter is a loose acronym meaning \"Julia, Python, and R\", three programming languages that are supported by the platform. \n",
    "\n",
    "You can access Jupyter notebooks from the Anaconda Navigator, or directly open the Jupyter Notebook application itself. It should automatically open up in your web browser. \n",
    "\n",
    "## Starting Jupyter \n",
    "\n",
    "If you have not already done so, then begin this lab session by starting the Jupyter application as follows:\n",
    "\n",
    "1. Click on the \"Anaconda Navigator\" icon on your desktop. It should look like this: ![Anaconda Navigator Icon](images/anaconda_Icon.png \"Anaconda Navigator Icon\")\n",
    "\n",
    "2. Anaconda Navigator should load. The application should display a window like the one shown below. \n",
    "   \n",
    "   ![Anaconda Navigator](images/nav.png \"Anaconda Navigator\")\n",
    "\n",
    "3. Look for the tile labeled \"Jupyter Notebook\" (circled below) and click the \"Launch\" button.\n",
    "   \n",
    "   ![Jupyter Tile](images/jupyter_tile.png \"Jupyter Tile\")\n",
    "\n",
    "4. The Jupyter notebook interface should load in a browser and look like this\n",
    "   TODO\n",
    "\n",
    "5. Navigate to the folder named 'MSPH306' by clicking the link as shown below\n",
    "6. You will see a list of Jupyter notebooks as shown below. Each notebook contains material that covers one lab session. Click on the notebook named 'Lab01.ipynb' to load this notebook into Jupyter. Continue this exercise over there.\n",
    "\n",
    "## Python programming in Jupyter: A simple Hello World Program\n",
    "\n",
    "Python code is usually stored in text files with the file ending \".py\". Jupyter notebooks are stored in files with the file ending \".ipynb\".\n",
    "\n",
    "In Jupyter notebooks, content is divided into 'cells'. Each cell can be of two types: \n",
    "\n",
    "1. Markdown Cells: These cells contain text, links and images formatted with the **markdown** language. These are for humans to read, and do not contain executable code. The text that you are reading right now is in a markdown cell.\n",
    "   \n",
    "2. Code cells: These cells contain codes that can be executed. The cell below this one is a python code cell.\n",
    "   \n",
    "\n",
    "Click on the code cell below and write down a simple 'hello world' program. This should be just a one-line print command. \n",
    "Execute the code cell by pressing 'Shift-Enter' (press and hold the 'Shift' key while pressing the 'Enter' key).\n",
    "\n",
    "The output should be displayed just below the code cell."
   ]
  },
  {
   "cell_type": "code",
   "execution_count": 1,
   "metadata": {},
   "outputs": [
    {
     "name": "stdout",
     "output_type": "stream",
     "text": [
      "Hello World\n"
     ]
    }
   ],
   "source": [
    "# This is a code cell. Type your program below this comment\n",
    "print(\"Hello World\")"
   ]
  },
  {
   "cell_type": "markdown",
   "metadata": {},
   "source": [
    "## Simple math in Python\n",
    "\n",
    "Every line in a Python program file is assumed to be a Python statement, or part thereof.\n",
    "\n",
    "The only exception is comment lines, which start with the character # (optionally preceded by an arbitrary number of white-space characters, i.e., tabs or spaces). Comment lines are usually ignored by the Python interpreter.\n",
    "\n",
    "You can use python just like a programmable calculator. Click on the code cell below, type in a simple one-line arithmetic expression and execute the code cell as before."
   ]
  },
  {
   "cell_type": "code",
   "execution_count": 2,
   "metadata": {},
   "outputs": [
    {
     "data": {
      "text/plain": [
       "5"
      ]
     },
     "execution_count": 2,
     "metadata": {},
     "output_type": "execute_result"
    }
   ],
   "source": [
    "2+3"
   ]
  },
  {
   "cell_type": "markdown",
   "metadata": {},
   "source": [
    "You can create a code cell by clicking on the \"+\" icon in the toolbar (see below) and create a code cell below this cell TODO. Enter a simple one-line math expression and execute it to display the evaluated result."
   ]
  },
  {
   "cell_type": "markdown",
   "metadata": {},
   "source": [
    "# Input and Output in Python"
   ]
  },
  {
   "cell_type": "markdown",
   "metadata": {},
   "source": []
  }
 ],
 "metadata": {
  "kernelspec": {
   "display_name": "hpc",
   "language": "python",
   "name": "python3"
  },
  "language_info": {
   "codemirror_mode": {
    "name": "ipython",
    "version": 3
   },
   "file_extension": ".py",
   "mimetype": "text/x-python",
   "name": "python",
   "nbconvert_exporter": "python",
   "pygments_lexer": "ipython3",
   "version": "3.11.7"
  }
 },
 "nbformat": 4,
 "nbformat_minor": 2
}
