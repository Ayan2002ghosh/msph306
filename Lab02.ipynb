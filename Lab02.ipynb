{
 "cells": [
  {
   "cell_type": "markdown",
   "metadata": {},
   "source": [
    "# Python: Basic Programming I\n",
    "\n",
    "Now that you've had an introduction to Jupyter Notebooks (see [Lab01](Lab01.ipynb)), let’s delve deeper into programming concepts.\n",
    "\n",
    "**Note: Python is a case-sensitive language. This means that ‘var’, ‘Var’, and ‘vaR’ are considered different identifiers.**\n",
    "\n",
    "## Variables and Keywords\n",
    "\n",
    "The most fundamental named entity in Python is an **identifier**, which is essentially a name for something. A Python identifier is used to name a variable, function, class, module, or any other Python object.\n",
    "\n",
    "There are two types of identifiers: Variables and Keywords.\n",
    "\n",
    "Keywords are predefined identifiers in Python. There are 33 keywords in Python, each with a specific meaning.\n",
    "\n",
    "| Keyword     | Description                           |\n",
    "|-------------|---------------------------------------|\n",
    "| `False`     | Boolean value, result of comparison  |\n",
    "| `None`      | Represents the absence of a value    |\n",
    "| `True`      | Boolean value, result of comparison  |\n",
    "| `and`       | Logical AND operator                 |\n",
    "| `as`        | Alias for modules                    |\n",
    "| `assert`    | Assert statement for debugging       |\n",
    "| `async`     | Asynchronous function declaration    |\n",
    "| `await`     | Wait for an async function           |\n",
    "| `break`     | Exit a loop                          |\n",
    "| `class`     | Define a class                       |\n",
    "| `continue`  | Skip the rest of the loop iteration  |\n",
    "| `def`       | Define a function                    |\n",
    "| `del`       | Delete an object                     |\n",
    "| `elif`      | Else if condition                    |\n",
    "| `else`      | Else condition                       |\n",
    "| `except`    | Exception handling                   |\n",
    "| `finally`   | Execute code regardless of exceptions|\n",
    "| `for`       | For loop                             |\n",
    "| `from`      | Import specific parts of a module    |\n",
    "| `global`    | Declare a global variable            |\n",
    "| `if`        | If condition                         |\n",
    "| `import`    | Import a module                      |\n",
    "| `in`        | Check if a value is in a sequence    |\n",
    "| `is`        | Test object identity                 |\n",
    "| `lambda`    | Anonymous function                   |\n",
    "| `nonlocal`  | Declare a non-local variable         |\n",
    "| `not`       | Logical NOT operator                 |\n",
    "| `or`        | Logical OR operator                  |\n",
    "| `pass`      | Null statement, does nothing         |\n",
    "| `raise`     | Raise an exception                   |\n",
    "| `return`    | Return a value from a function       |\n",
    "| `try`       | Try block for exception handling     |\n",
    "| `while`     | While loop                           |\n",
    "| `with`      | Simplify exception handling          |\n",
    "| `yield`     | Return a generator                   |\n",
    "\n",
    "For example,\n",
    "\n",
    "```python\n",
    "True, False\n",
    "```\n",
    "are keywords for Boolean expressions. `True` corresponds to the logic bit 1 and `False` to the bit 0. Similarly,\n",
    "```\n",
    "and, or, not\n",
    "```\n",
    "are logical operator keywords. Additionally, `None` represents a null Python object, similar to the null set in set theory. We will explore the usage of some of these keywords throughout this course. The key point is that **these keywords are reserved**, meaning you cannot use them as variable names.\n",
    "\n",
    "Next, let’s discuss variables. Variables are names that refer to data. Essentially, they are a way to reference data created by your program in memory. For instance, a Python statement like\n",
    "```python\n",
    "log_one = 0\n",
    "```\n",
    "when executed, causes Python to perform the following actions:\n",
    "1. Create the data, which is an integer with value `0`, and store it in computer memory. \n",
    "2. Create a variable named `log_one` and associate it with the previously created data. \n",
    "\n",
    "Thus, this data is **referenced** by the variable log_one. This reference allows you to access and manipulate the data using the variable name.\n",
    "\n",
    "This reference and its associated data will remain preserved throughout the execution of the program, unless you change the reference, the data that was referenced, or delete the variable.\n",
    "\n",
    "Data can also be **unreferenced**, that is to say, not be associated with any variable. For instance, the python statement\n",
    "```python\n",
    "print(23.5)\n",
    "```\n",
    "when executed, causes Python to perform the following actions:\n",
    "1. Create the data, which is an integer with value `23.5`, and store it in computer memory.\n",
    "2. Pass that data to the `print()` function and display the output\n",
    "\n",
    "Note, however, that no variable was involved. This means that the created data is unreferenced. Python has a **garbage collector** that deletes unreferenced data from memory as it runs through the program. \n",
    "\n",
    "You can delete a variable or re-reference it, for instance\n",
    "```python\n",
    "a = 5\n",
    "b = 10\n",
    "\n",
    "...\n",
    "...\n",
    "\n",
    "del(a)\n",
    "b = 25\n",
    "\n",
    "```\n",
    "Let us look at this piece of code carefully.\n",
    "\n",
    "1. In the first line, the integer `5` was prepared in memory and referenced by the variable named `a`.\n",
    "    * Therefore, this data is in a referenced state.\n",
    "2. In the penultimate line, the variable `a` is **deleted** with the `del()` function. \n",
    "    * Note that this `del` is a keyword from the table above! \n",
    "    * This is a built-in function that, when executed, deletes the variable in its argument. In this case, that is `a`.\n",
    "    * Now, the associated data (the integer `5`) has been ***de-referenced*** to an unreferenced state.\n",
    "    * This unreferenced data will be erased from computer memory later. \n",
    "3. In the second line, the integer `10` was prepared in memory and referenced by the variable named `b`. \n",
    "    * Therefore, this data is also in a referenced state.\n",
    "4. However, in the last line, `b` was ***re-referenced*** to newly created data , namely, the integer `25`.\n",
    "    * So the old data (the integer `10`) is now in an unreferenced state.\n",
    "    * This data will **also** be erased from computer memory later. \n",
    "\n",
    "\n",
    "### Rules for creating variables:\n",
    "\n",
    "* Must start with alphabet or an underscore.\n",
    "* Followed by zero or more letters, _ , and digits.\n",
    "* A keyword cannot be used as identifier.\n",
    "\n",
    "### Usage of variables\n",
    "\n",
    "Variables can be used in two ways:\n",
    "\n",
    "1. As arguments to functions or declarations. For instance, the example above:\n",
    "   ```python\n",
    "    del(a)\n",
    "    ```\n",
    "   where we supplied the variable `a` as an argument to the `del()` function.\n",
    "2. As **operands** to **operators** in an expression. For instance, the expression \n",
    "    ```python\n",
    "        a = b + c\n",
    "    ```\n",
    "    where the `+` operator is executed with the variables `b` and `c` as operands. The evaluated value (assuming that `b` and `c` are referenced to numbers, then the value is simply their sum) is referenced by the variable `a`. \n",
    "    \n",
    "Let us now try an example code\n",
    "\n"
   ]
  },
  {
   "cell_type": "code",
   "execution_count": 2,
   "metadata": {},
   "outputs": [
    {
     "name": "stdout",
     "output_type": "stream",
     "text": [
      "5\n",
      "10\n"
     ]
    }
   ],
   "source": [
    "# A variable\n",
    "a = 5\n",
    "\n",
    "print(a) # This prints the value of variable a\n",
    "\n",
    "b = 10\n",
    "\n",
    "print(b) # This prints the value of variable a"
   ]
  },
  {
   "cell_type": "code",
   "execution_count": 3,
   "metadata": {},
   "outputs": [
    {
     "name": "stdout",
     "output_type": "stream",
     "text": [
      "20\n"
     ]
    }
   ],
   "source": [
    "b = 20 #This re-references b to the value 20\n",
    "\n",
    "#Now, the new value will be printed\n",
    "print(b)"
   ]
  },
  {
   "cell_type": "code",
   "execution_count": 5,
   "metadata": {},
   "outputs": [
    {
     "ename": "NameError",
     "evalue": "name 'a' is not defined",
     "output_type": "error",
     "traceback": [
      "\u001b[0;31m---------------------------------------------------------------------------\u001b[0m",
      "\u001b[0;31mNameError\u001b[0m                                 Traceback (most recent call last)",
      "Cell \u001b[0;32mIn[5], line 2\u001b[0m\n\u001b[1;32m      1\u001b[0m \u001b[38;5;66;03m# If we delete a variable and try to print it, there will be an error, since it is no longer defined\u001b[39;00m\n\u001b[0;32m----> 2\u001b[0m \u001b[38;5;28;01mdel\u001b[39;00m(a)\n\u001b[1;32m      3\u001b[0m \u001b[38;5;28mprint\u001b[39m(a)\n",
      "\u001b[0;31mNameError\u001b[0m: name 'a' is not defined"
     ]
    }
   ],
   "source": [
    "# If we delete a variable and try to print it, there will be an error, since it is no longer defined\n",
    "del(a)\n",
    "print(a)"
   ]
  },
  {
   "cell_type": "code",
   "execution_count": 9,
   "metadata": {},
   "outputs": [
    {
     "name": "stdout",
     "output_type": "stream",
     "text": [
      "55\n",
      "I am a literal string\n",
      "11.4\n"
     ]
    }
   ],
   "source": [
    "b = 25\n",
    "\n",
    "c = 30\n",
    "\n",
    "# You can use variables as operands, as long as the operator makes sense\n",
    "a = b + c\n",
    "print(a)\n",
    "\n",
    "#You can also use literal values (numbers or strings), together with variables, as both arguments and operands\n",
    "\n",
    "print(\"I am a literal string\")\n",
    "\n",
    "a = 3.4\n",
    "\n",
    "print(a+8) #Here, '8' is a \"literal integer\", whereas 'a' is a variable referenced to an integer"
   ]
  },
  {
   "cell_type": "markdown",
   "metadata": {},
   "source": [
    "Note that, If, however, any one of `b` and `c` are **not** numbers, then the value is unpredictable, and could result in an error message. "
   ]
  },
  {
   "cell_type": "code",
   "execution_count": 7,
   "metadata": {},
   "outputs": [
    {
     "ename": "TypeError",
     "evalue": "can only concatenate str (not \"int\") to str",
     "output_type": "error",
     "traceback": [
      "\u001b[0;31m---------------------------------------------------------------------------\u001b[0m",
      "\u001b[0;31mTypeError\u001b[0m                                 Traceback (most recent call last)",
      "Cell \u001b[0;32mIn[7], line 6\u001b[0m\n\u001b[1;32m      3\u001b[0m b \u001b[38;5;241m=\u001b[39m \u001b[38;5;124m\"\u001b[39m\u001b[38;5;124mFrogs\u001b[39m\u001b[38;5;124m\"\u001b[39m \u001b[38;5;66;03m#b is now referenced to a string\u001b[39;00m\n\u001b[1;32m      4\u001b[0m c \u001b[38;5;241m=\u001b[39m \u001b[38;5;241m3\u001b[39m\n\u001b[0;32m----> 6\u001b[0m a \u001b[38;5;241m=\u001b[39m \u001b[43mb\u001b[49m\u001b[43m \u001b[49m\u001b[38;5;241;43m+\u001b[39;49m\u001b[43m \u001b[49m\u001b[43mc\u001b[49m\n",
      "\u001b[0;31mTypeError\u001b[0m: can only concatenate str (not \"int\") to str"
     ]
    }
   ],
   "source": [
    "# This won't work\n",
    "\n",
    "b = \"Frogs\" #b is now referenced to a string\n",
    "c = 3\n",
    "\n",
    "# This operation does not make sense\n",
    "a = b + c"
   ]
  },
  {
   "cell_type": "code",
   "execution_count": 10,
   "metadata": {},
   "outputs": [
    {
     "ename": "TypeError",
     "evalue": "unsupported operand type(s) for +: 'NoneType' and 'int'",
     "output_type": "error",
     "traceback": [
      "\u001b[0;31m---------------------------------------------------------------------------\u001b[0m",
      "\u001b[0;31mTypeError\u001b[0m                                 Traceback (most recent call last)",
      "Cell \u001b[0;32mIn[10], line 5\u001b[0m\n\u001b[1;32m      2\u001b[0m b \u001b[38;5;241m=\u001b[39m \u001b[38;5;28;01mNone\u001b[39;00m\n\u001b[1;32m      3\u001b[0m c \u001b[38;5;241m=\u001b[39m \u001b[38;5;241m3\u001b[39m\n\u001b[0;32m----> 5\u001b[0m a \u001b[38;5;241m=\u001b[39m \u001b[43mb\u001b[49m\u001b[43m \u001b[49m\u001b[38;5;241;43m+\u001b[39;49m\u001b[43m \u001b[49m\u001b[43mc\u001b[49m\n",
      "\u001b[0;31mTypeError\u001b[0m: unsupported operand type(s) for +: 'NoneType' and 'int'"
     ]
    }
   ],
   "source": [
    "# Nor does this make any sense\n",
    "\n",
    "b = None  #'b' is a variable referenced to the null object\n",
    "c = 3\n",
    "\n",
    "a = b + c"
   ]
  },
  {
   "cell_type": "markdown",
   "metadata": {},
   "source": [
    "## Variable Types\n",
    "\n",
    "You can find the type of a variable using the built-in `type()` function. For example:"
   ]
  },
  {
   "cell_type": "code",
   "execution_count": 11,
   "metadata": {},
   "outputs": [
    {
     "data": {
      "text/plain": [
       "(int, float, float)"
      ]
     },
     "execution_count": 11,
     "metadata": {},
     "output_type": "execute_result"
    }
   ],
   "source": [
    "a = 3\n",
    "b = 4.5\n",
    "\n",
    "c = a + b\n",
    "\n",
    "type(a), type(b), type(c)"
   ]
  },
  {
   "cell_type": "markdown",
   "metadata": {},
   "source": [
    "Note that the types of `a, b, c` are automatically set by python. \n",
    "\n",
    "Python is an intelligent interpreter, and can figure out which values are of which type. \n",
    "\n",
    "This is important, because `int` and `float` data need different amounts of computer memory, so the interpreter needs to determine how much memory to allocate before creating the data. \n",
    "\n",
    "Other programming languages, like `C/C++`, cannot do this on their own. You have to tell them which type of data a particular variable references to.\n",
    "\n",
    "The type of a variable can change automatically with new references. Python is smart enough to do this on its own."
   ]
  },
  {
   "cell_type": "code",
   "execution_count": 12,
   "metadata": {},
   "outputs": [
    {
     "name": "stdout",
     "output_type": "stream",
     "text": [
      "15 - <class 'int'>\n",
      "9.6 - <class 'float'>\n"
     ]
    }
   ],
   "source": [
    "a = 5\n",
    "b = 10\n",
    "\n",
    "c = a+b\n",
    "\n",
    "print(c, '-', type(c))\n",
    "\n",
    "a = 3.4\n",
    "b = 6.2\n",
    "\n",
    "\n",
    "c = a+b\n",
    "\n",
    "print(c, '-', type(c))"
   ]
  },
  {
   "cell_type": "markdown",
   "metadata": {},
   "source": [
    "You can also force a change in the type"
   ]
  },
  {
   "cell_type": "code",
   "execution_count": 15,
   "metadata": {},
   "outputs": [
    {
     "name": "stdout",
     "output_type": "stream",
     "text": [
      "5.0 - <class 'float'>\n",
      "5.0 - <class 'float'>\n",
      "5 - <class 'int'>\n"
     ]
    }
   ],
   "source": [
    "x = (50 - 5*6) / 4\n",
    "print(x, '-', type(x))\n",
    "\n",
    "y = x\n",
    "print(y, '-', type(y))\n",
    "\n",
    "y = int(x)\n",
    "print(y, '-', type(y))"
   ]
  },
  {
   "cell_type": "markdown",
   "metadata": {},
   "source": [
    "Note, however, that this kind of **retyping** could result in information loss."
   ]
  },
  {
   "cell_type": "code",
   "execution_count": 16,
   "metadata": {},
   "outputs": [
    {
     "name": "stdout",
     "output_type": "stream",
     "text": [
      "4.878048780487806 - <class 'float'>\n",
      "4.878048780487806 - <class 'float'>\n",
      "4 - <class 'int'>\n"
     ]
    }
   ],
   "source": [
    "x = (50 - 5*6) / 4.1\n",
    "print(x, '-', type(x))\n",
    "\n",
    "y = x\n",
    "print(y, '-', type(y))\n",
    "\n",
    "y = int(x)\n",
    "print(y, '-', type(y))"
   ]
  },
  {
   "cell_type": "markdown",
   "metadata": {},
   "source": [
    "The re-typing of `y` to `int` caused the decimal part to be discarded, as there was no memory left for it."
   ]
  },
  {
   "cell_type": "markdown",
   "metadata": {},
   "source": [
    "### Exercise 01:\n",
    "\n",
    "Create a variable named `distance` and reference it to a `float` that is an estimate of the distance to your home from this lab in kilometres. Then, create another variable named `mileToKm` that referenced to a `float` that is an estimate of one mile in kilometres (about `1.60934`). Now, use these variables to convert your distance to miles and display the output."
   ]
  },
  {
   "cell_type": "markdown",
   "metadata": {},
   "source": [
    "## Strings in Python\n",
    "\n",
    "In python, strings are a fundamental data type, just like `int` and `float`.\n",
    "\n",
    "A Python string is a collection of Unicode characters.\n",
    "\n",
    "A python string can be prepared by enclosed in single, double or triple quotes.\n",
    "\n",
    "```python\n",
    "\n",
    "'BlindSpot'\n",
    "\"BlindSpot\"\n",
    "''' BlindSpot '''\n",
    "\"\"\"Blindspot\"\"\"\n",
    "```\n",
    "all these are individual strings\n",
    "\n",
    "\n",
    "Note that, if there are characters like ' \" or \\ within a string, they can be\n",
    "retained in two ways:\n",
    "\n",
    "1. Escape them by preceding them with a \\\n",
    "2. Prepend the string with a 'r' indicating that it is a raw string\n",
    "\n",
    "Example:"
   ]
  },
  {
   "cell_type": "code",
   "execution_count": 23,
   "metadata": {},
   "outputs": [
    {
     "name": "stdout",
     "output_type": "stream",
     "text": [
      "He said, 'Let's go to school.'\n",
      "He said, 'Let's go to school.'\n"
     ]
    }
   ],
   "source": [
    "msg1 = 'He said, \\'Let\\'s go to school.\\''\n",
    "print(msg1)\n",
    "\n",
    "msg2 = r\"He said, 'Let's go to school.'\"\n",
    "print(msg2)"
   ]
  },
  {
   "cell_type": "code",
   "execution_count": 24,
   "metadata": {},
   "outputs": [
    {
     "data": {
      "text/plain": [
       "True"
      ]
     },
     "execution_count": 24,
     "metadata": {},
     "output_type": "execute_result"
    }
   ],
   "source": [
    "msg1 == msg2"
   ]
  },
  {
   "cell_type": "markdown",
   "metadata": {},
   "source": [
    "You can see that, if the operation `==` is executed with the variables `msg1` and `msg2`, it compares the values of these variables ***i.e.*** the data referenced by them after any evaluations of expressions. If the data are identical bit-for-bit, the result is the boolean `True`. \n",
    "\n",
    "If, however,  they are not identical (even by a little bit), then the result is `False`."
   ]
  },
  {
   "cell_type": "code",
   "execution_count": 28,
   "metadata": {},
   "outputs": [
    {
     "name": "stdout",
     "output_type": "stream",
     "text": [
      "He said, 'Let's go to school.'\n",
      "He said, 'Let us  go to school.'\n"
     ]
    },
    {
     "data": {
      "text/plain": [
       "False"
      ]
     },
     "execution_count": 28,
     "metadata": {},
     "output_type": "execute_result"
    }
   ],
   "source": [
    "msg2 = r\"He said, 'Let us  go to school.'\"\n",
    "print(msg1)\n",
    "print(msg2)\n",
    "msg1 == msg2"
   ]
  },
  {
   "cell_type": "markdown",
   "metadata": {},
   "source": [
    "String elements can be accessed using an index value, starting with 0. Negative index value is allowed. The last character is considered to be at index -1. Backwards index counting is possible, starting from -1 and going as -2, -3, -4 etc. "
   ]
  },
  {
   "cell_type": "code",
   "execution_count": 29,
   "metadata": {},
   "outputs": [
    {
     "name": "stdout",
     "output_type": "stream",
     "text": [
      "H o H\n",
      "o l\n",
      "l\n"
     ]
    }
   ],
   "source": [
    "msg = 'Hello'\n",
    "a = msg[0]\n",
    "b = msg[4]\n",
    "c = msg[-0]\n",
    "d = msg[-1]\n",
    "e = msg[-2]\n",
    "f = msg[-5]\n",
    "\n",
    "print(a, d, f)\n",
    "print(b, e)\n",
    "print(msg[2])"
   ]
  },
  {
   "cell_type": "markdown",
   "metadata": {},
   "source": [
    "Part of a string can be sliced out of a string. Consider a string names `s`, with integers `start` and `end`. Then,\n",
    "\n",
    "* s[start : end] - extract from `start` to `(end - 1)`.\n",
    "* s[start :] - extract from `start` to `end`.\n",
    "* s[: end] - extract from beginning to `(end - 1)`.\n",
    "* s[-start :] - extract from `-start` (included) to the last character.\n",
    "* s[: -end] - extract from beginning to `-end - 1`."
   ]
  },
  {
   "cell_type": "code",
   "execution_count": 41,
   "metadata": {},
   "outputs": [
    {
     "name": "stdout",
     "output_type": "stream",
     "text": [
      "Kolkata and Burdwan are two cities\n",
      "Kolkata   is a city\n",
      "Burdwan  is also a city\n",
      "Burdwan  is also a city, only here its counted differently\n",
      "The city of Kolkata   has  8  letters in its name\n"
     ]
    }
   ],
   "source": [
    "s = \"Kolkata and Burdwan are two cities\"\n",
    "print(s)\n",
    "\n",
    "kol = s[:8]\n",
    "print(kol, ' is a city')\n",
    "\n",
    "bwn = s[12:19]\n",
    "print(bwn, ' is also a city')\n",
    "print(s[-22:-15], ' is also a city, only here its counted differently')\n",
    "\n",
    "#This shows the usage of the len() function\n",
    "print(\"The city of\", kol, \" has \", len(kol) ,\" letters in its name\")"
   ]
  },
  {
   "cell_type": "markdown",
   "metadata": {},
   "source": [
    "In python, some math and logic operations have been **overloaded** to work with strings, for instance"
   ]
  },
  {
   "cell_type": "code",
   "execution_count": 44,
   "metadata": {},
   "outputs": [
    {
     "name": "stdout",
     "output_type": "stream",
     "text": [
      "MacLearn!!\n",
      "MacLearn!!MacLearn!!\n",
      "MacLearn!!MacLearn!!MacLearn!!\n"
     ]
    }
   ],
   "source": [
    "msg6 = 'MacLearn!!'\n",
    "print(msg6)\n",
    "\n",
    "# string replication during printing\n",
    "print(msg6 * 2)\n",
    "print(msg6 * 3)"
   ]
  },
  {
   "cell_type": "code",
   "execution_count": 45,
   "metadata": {},
   "outputs": [
    {
     "name": "stdout",
     "output_type": "stream",
     "text": [
      "UtopiaToday!!!\n"
     ]
    }
   ],
   "source": [
    "msg7 = 'Utopia'\n",
    "msg8 = 'Today!!!'\n",
    "msg7 = msg7 + msg8 # concatenation using +\n",
    "print(msg7)"
   ]
  },
  {
   "cell_type": "code",
   "execution_count": 46,
   "metadata": {},
   "outputs": [
    {
     "name": "stdout",
     "output_type": "stream",
     "text": [
      "BamboozledHype!\n",
      "BambooMonger!\n"
     ]
    }
   ],
   "source": [
    "s = 'Bamboozled'\n",
    "s = s + 'Hype!'\n",
    "print(s)\n",
    "\n",
    "s = s[:6] + 'Monger' + s[-1]\n",
    "print(s)"
   ]
  },
  {
   "cell_type": "code",
   "execution_count": 47,
   "metadata": {},
   "outputs": [
    {
     "name": "stdout",
     "output_type": "stream",
     "text": [
      "Madam. I'm Adam\n",
      "madA m'I .madaM\n"
     ]
    }
   ],
   "source": [
    "a = \"Madam. I'm Adam\"\n",
    "print(a)\n",
    "\n",
    "# Reversing a string\n",
    "print(a[::-1])"
   ]
  },
  {
   "cell_type": "markdown",
   "metadata": {},
   "source": [
    "### Exercise 02:\n",
    "\n",
    "1. Try to make sense of the output of the program below:"
   ]
  },
  {
   "cell_type": "code",
   "execution_count": 55,
   "metadata": {},
   "outputs": [
    {
     "name": "stdout",
     "output_type": "stream",
     "text": [
      "able was I ere I saw elba\n",
      "able was I ere I saw elba\n",
      "True\n",
      "#########################\n",
      "able was I ere I saw elba.\n",
      ".able was I ere I saw elba\n",
      "False\n"
     ]
    }
   ],
   "source": [
    "a = \"able was I ere I saw elba\"\n",
    "print(a)\n",
    "a_reversed = a[::-1]\n",
    "print(a_reversed)\n",
    "print(a == a_reversed)\n",
    "\n",
    "print(\"#########################\")\n",
    "\n",
    "a = \"able was I ere I saw elba.\"\n",
    "print(a)\n",
    "a_reversed = a[::-1]\n",
    "print(a_reversed)\n",
    "print(a == a_reversed)"
   ]
  },
  {
   "cell_type": "markdown",
   "metadata": {},
   "source": [
    "### Exercise 03:\n",
    "\n",
    "For a given string 'Bamboozled', write a program to obtain the following output:\n",
    "```python\n",
    "Ba\n",
    "ed\n",
    "mboozled\n",
    "Bamboo\n",
    "delzoobmaB\n",
    "Bmoze\n",
    "Bbzd\n",
    "Boe\n",
    "BambooHype!\n",
    "```"
   ]
  },
  {
   "cell_type": "markdown",
   "metadata": {},
   "source": [
    "### Python f-strings \n",
    "\n",
    "Python f-strings (formatted strings), introduced in Python 3.6, provide a concise and readable way to embed expressions and variables directly into strings by **interpolation** and **formatting**. \n",
    "\n",
    "#### Basic Usage: Interpolation\n",
    "To create an f-string, prefix the string with the letter f or F. Inside the string, you can include expressions and/or variables within curly braces {}. This results in **interpolation**, where the output replaces the variable in the appropriate place in the string by the referenced value."
   ]
  },
  {
   "cell_type": "code",
   "execution_count": 56,
   "metadata": {},
   "outputs": [
    {
     "name": "stdout",
     "output_type": "stream",
     "text": [
      "My name is Alice and I am 30 years old.\n"
     ]
    }
   ],
   "source": [
    "name = \"Alice\"\n",
    "age = 30\n",
    "print(f\"My name is {name} and I am {age} years old.\")"
   ]
  },
  {
   "cell_type": "markdown",
   "metadata": {},
   "source": [
    "You can embed expressions inside f-strings."
   ]
  },
  {
   "cell_type": "code",
   "execution_count": 58,
   "metadata": {},
   "outputs": [
    {
     "name": "stdout",
     "output_type": "stream",
     "text": [
      "The sum of 5 and 10 is 15.\n"
     ]
    }
   ],
   "source": [
    "a = 5\n",
    "b = 10\n",
    "print(f\"The sum of {a} and {b} is {a + b}.\")"
   ]
  },
  {
   "cell_type": "markdown",
   "metadata": {},
   "source": [
    "#### Formatting Numbers\n",
    "f-strings support formatting options for numbers, such as specifying the number of decimal places for a float type."
   ]
  },
  {
   "cell_type": "code",
   "execution_count": 59,
   "metadata": {},
   "outputs": [
    {
     "name": "stdout",
     "output_type": "stream",
     "text": [
      "Pi to three decimal places is 3.142.\n"
     ]
    }
   ],
   "source": [
    "pi = 3.14159\n",
    "print(f\"Pi to three decimal places is {pi:.3f}.\")"
   ]
  },
  {
   "cell_type": "markdown",
   "metadata": {},
   "source": [
    "Note the use of `:M.N` and `f` in the formatting instruction following the variable. Here, the `M (N)` is the number of characters to the left (right) of the decimal that will be printed, and `f` instructs the interpreter to do floating point formatting.\n",
    "\n",
    "For integer formatting, we can do"
   ]
  },
  {
   "cell_type": "code",
   "execution_count": 65,
   "metadata": {},
   "outputs": [
    {
     "name": "stdout",
     "output_type": "stream",
     "text": [
      "Ram        ==>       4127\n",
      "Shyam      ==>       4098\n",
      "Carl       ==>        768\n"
     ]
    }
   ],
   "source": [
    "name1 = 'Ram'\n",
    "ph1 = 4127\n",
    "\n",
    "name2 = 'Shyam'\n",
    "ph2 = 4098\n",
    "\n",
    "name3 = 'Carl'\n",
    "ph3 = 768\n",
    "\n",
    "print(f'{name1:10} ==> {ph1:10d}')\n",
    "print(f'{name2:10} ==> {ph2:10d}')\n",
    "print(f'{name3:10} ==> {ph3:10d}')"
   ]
  },
  {
   "cell_type": "markdown",
   "metadata": {},
   "source": [
    "f-strings are a powerful feature in Python that make string interpolation and formatting easier and more efficient. They are highly recommended for use in modern Python code.\n",
    "\n",
    "### Exercise 04:\n",
    "\n",
    "1. Create a program that takes a user’s name and age as input and prints a greeting message using f-strings.\n",
    "2. Write a program that takes two numbers as input and prints their sum, difference, product, and quotient using f-strings.\n",
    "3. Create a program that takes a floating-point number as input and prints it rounded to two decimal places using f-strings.\n",
    "4. Write a program that converts a temperature from Celsius to Fahrenheit and prints the result using f-strings. The working formula is\n",
    "\\begin{equation*}\n",
    " F = \\frac{9}{5} C + 32\n",
    "\\end{equation*}\n"
   ]
  },
  {
   "cell_type": "markdown",
   "metadata": {},
   "source": [
    "## Python Conditionals\n",
    "\n",
    "### Introduction\n",
    "Conditionals are used to execute code based on certain conditions. The primary conditional statements in Python are `if`, `elif`, and `else`. **Indentation is crucial** in Python, as it defines the scope of the code blocks.\n",
    "\n",
    "### Basic `if` Statement\n",
    "The `if` statement evaluates a condition and executes the code block if the condition is `True`.\n",
    "\n",
    "```python\n",
    "x = 10\n",
    "if x > 5:\n",
    "    print(\"x is greater than 5\")  # This line is indented, meaning it belongs to the if block\n",
    "```    \n",
    "\n",
    "Here, the condition `x > 5 `is `True` because `x` is `10`. Therefore, the indented print statement is executed, and `x is greater than 5` is printed, as can be seen in the code cell below.\n",
    "\n",
    "\n",
    "\n"
   ]
  },
  {
   "cell_type": "code",
   "execution_count": 1,
   "metadata": {},
   "outputs": [
    {
     "name": "stdout",
     "output_type": "stream",
     "text": [
      "x is greater than 5\n"
     ]
    }
   ],
   "source": [
    "x = 10\n",
    "if x > 5:\n",
    "    print(\"x is greater than 5\")  # This line is indented, meaning it belongs to the if block"
   ]
  },
  {
   "cell_type": "markdown",
   "metadata": {},
   "source": [
    "But what if `x` was not greater than 5? In that case, the condition `x > 5` is `False`, and the indented line in the scope of the `if` statement is not executed."
   ]
  },
  {
   "cell_type": "code",
   "execution_count": 2,
   "metadata": {},
   "outputs": [],
   "source": [
    "x = 2\n",
    "if x > 5:\n",
    "    print(\"x is greater than 5\")  # This line is indented, meaning it belongs to the if block"
   ]
  },
  {
   "cell_type": "markdown",
   "metadata": {},
   "source": [
    "#### if-else Statement\n",
    "\n",
    "The if-else statement provides an alternative code block to execute if the condition is False.\n"
   ]
  },
  {
   "cell_type": "code",
   "execution_count": 3,
   "metadata": {},
   "outputs": [
    {
     "name": "stdout",
     "output_type": "stream",
     "text": [
      "x is not greater than 5\n"
     ]
    }
   ],
   "source": [
    "x = 3\n",
    "if x > 5:\n",
    "    print(\"x is greater than 5\")\n",
    "else:\n",
    "    print(\"x is not greater than 5\")  # This line is also indented correctly"
   ]
  },
  {
   "cell_type": "markdown",
   "metadata": {},
   "source": [
    "In this case, the condition `x > 5` is `False` because `x` is `3`. Therefore, the code block under else is executed, and “x is not greater than 5” is printed."
   ]
  },
  {
   "cell_type": "code",
   "execution_count": 4,
   "metadata": {},
   "outputs": [
    {
     "name": "stdout",
     "output_type": "stream",
     "text": [
      "x is greater than 5\n"
     ]
    }
   ],
   "source": [
    "x = 10\n",
    "if x > 5:\n",
    "    print(\"x is greater than 5\")\n",
    "else:\n",
    "    print(\"x is not greater than 5\")  # This line is also indented correctly"
   ]
  },
  {
   "cell_type": "markdown",
   "metadata": {},
   "source": [
    "In this case, the condition `x > 5` is `True` because `x` is `10`. Therefore, the code block under `if` is executed, and “x is greater than 5” is printed.\n",
    "\n",
    "The important part of this construct is the conditional. The conditional expression can be any expression that evaluates to a boolean, either `True` or `False`. Look at the example below."
   ]
  },
  {
   "cell_type": "code",
   "execution_count": 5,
   "metadata": {},
   "outputs": [
    {
     "name": "stdout",
     "output_type": "stream",
     "text": [
      "'racecar' is a palindrome and its length is greater than 5.\n"
     ]
    }
   ],
   "source": [
    "word = \"racecar\"\n",
    "\n",
    "if word == word[::-1] and len(word) > 5:\n",
    "    print(f\"'{word}' is a palindrome and its length is greater than 5.\")\n",
    "else:\n",
    "    print(f\"'{word}' is either not a palindrome or its length is 5 or less.\")"
   ]
  },
  {
   "cell_type": "markdown",
   "metadata": {},
   "source": [
    "* word == word[::-1] checks if the string is the same when reversed. Such strings are called 'palindromes'\n",
    "* len(word) > 5 checks if the length of the string is greater than 5.\n",
    "* The and operator ensures both conditions must be True for the if block to execute."
   ]
  },
  {
   "cell_type": "code",
   "execution_count": 6,
   "metadata": {},
   "outputs": [
    {
     "name": "stdout",
     "output_type": "stream",
     "text": [
      "'I am a student' is either not a palindrome or its length is 5 or less.\n"
     ]
    }
   ],
   "source": [
    "word = \"I am a student\" # Not a palindrome\n",
    "\n",
    "if word == word[::-1] and len(word) > 5:\n",
    "    print(f\"'{word}' is a palindrome and its length is greater than 5.\")\n",
    "else:\n",
    "    print(f\"'{word}' is either not a palindrome or its length is 5 or less.\")"
   ]
  },
  {
   "cell_type": "code",
   "execution_count": 7,
   "metadata": {},
   "outputs": [
    {
     "name": "stdout",
     "output_type": "stream",
     "text": [
      "'ere' is either not a palindrome or its length is 5 or less.\n"
     ]
    }
   ],
   "source": [
    "word = \"ere\" # A short Palindrome\n",
    "\n",
    "if word == word[::-1] and len(word) > 5:\n",
    "    print(f\"'{word}' is a palindrome and its length is greater than 5.\")\n",
    "else:\n",
    "    print(f\"'{word}' is either not a palindrome or its length is 5 or less.\")"
   ]
  },
  {
   "cell_type": "markdown",
   "metadata": {},
   "source": [
    "#### if-elif-else Statement\n",
    "\n",
    "The if-elif-else statement allows you to check multiple conditions."
   ]
  },
  {
   "cell_type": "code",
   "execution_count": 8,
   "metadata": {},
   "outputs": [
    {
     "name": "stdout",
     "output_type": "stream",
     "text": [
      "x is greater than 5 but less than or equal to 10\n"
     ]
    }
   ],
   "source": [
    "x = 7\n",
    "if x > 10:\n",
    "    print(\"x is greater than 10\")\n",
    "elif x > 5:\n",
    "    print(\"x is greater than 5 but less than or equal to 10\")\n",
    "else:\n",
    "    print(\"x is 5 or less\")\n"
   ]
  },
  {
   "cell_type": "markdown",
   "metadata": {},
   "source": [
    "Here, the first condition `x > 10` is `False`, so the code moves to the `elif` condition `x > 5`, which is `True`. Therefore, the corresponding code block is executed, and “x is greater than 5 but less than or equal to 10” is printed.\n",
    "\n",
    "The final `else` block is executed only if all the conditionals above it are `False`. \n",
    "\n",
    "\n",
    "Note that all `else` blocks are optional. If no `else` block exists (the first `if` example did not have one), then the code execution simply continues to the next line.\n",
    "\n",
    "#### Nested Conditionals\n",
    "\n",
    "You can also nest conditional statements within each other."
   ]
  },
  {
   "cell_type": "code",
   "execution_count": 9,
   "metadata": {},
   "outputs": [
    {
     "name": "stdout",
     "output_type": "stream",
     "text": [
      "x is greater than 5 and even\n"
     ]
    }
   ],
   "source": [
    "x = 8\n",
    "if x > 5:\n",
    "    if x % 2 == 0:\n",
    "        print(\"x is greater than 5 and even\")\n",
    "    else:\n",
    "        print(\"x is greater than 5 and odd\")\n",
    "else:\n",
    "    print(\"x is 5 or less\")"
   ]
  },
  {
   "cell_type": "markdown",
   "metadata": {},
   "source": [
    "The outer if condition `x > 5` is `True`, so the code enters the nested `if` block. The nested condition `x % 2 == 0` (`%` is the remainder operator) is also `True` because `8` is even. Therefore, “x is greater than 5 and even” is printed.\n",
    "\n",
    "#### Ternary If-Else Expression\n",
    "\n",
    "Python also supports a shorthand for `if-else` statements, known as the ternary `if-else` expression."
   ]
  },
  {
   "cell_type": "code",
   "execution_count": 10,
   "metadata": {},
   "outputs": [
    {
     "name": "stdout",
     "output_type": "stream",
     "text": [
      "x is greater than 5\n"
     ]
    }
   ],
   "source": [
    "x = 10\n",
    "result = \"x is greater than 5\" if x > 5 else \"x is not greater than 5\"\n",
    "print(result)"
   ]
  },
  {
   "cell_type": "markdown",
   "metadata": {},
   "source": [
    "The condition `x > 5` is `True`, so the expression \"x is greater than 5\" is assigned to result. The `print(result)` statement then outputs “x is greater than 5”."
   ]
  },
  {
   "cell_type": "markdown",
   "metadata": {},
   "source": [
    "### Exercise 05\n",
    "1. Write a program that checks if a number is positive, negative, or zero.\n",
    "2. Write a program that checks if a year is a leap year. A year is a leap year if it is divisible by 4 but not by 100, except if it is also divisible by 400.\n",
    "\n"
   ]
  },
  {
   "cell_type": "code",
   "execution_count": null,
   "metadata": {},
   "outputs": [],
   "source": []
  }
 ],
 "metadata": {
  "kernelspec": {
   "display_name": "Python 3 (ipykernel)",
   "language": "python",
   "name": "python3"
  },
  "language_info": {
   "codemirror_mode": {
    "name": "ipython",
    "version": 3
   },
   "file_extension": ".py",
   "mimetype": "text/x-python",
   "name": "python",
   "nbconvert_exporter": "python",
   "pygments_lexer": "ipython3",
   "version": "3.10.13"
  }
 },
 "nbformat": 4,
 "nbformat_minor": 2
}
